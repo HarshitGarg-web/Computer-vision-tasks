{
  "nbformat": 4,
  "nbformat_minor": 0,
  "metadata": {
    "colab": {
      "provenance": [],
      "authorship_tag": "ABX9TyOa35XO3zNAOhnq7h7YDNdQ",
      "include_colab_link": true
    },
    "kernelspec": {
      "name": "python3",
      "display_name": "Python 3"
    },
    "language_info": {
      "name": "python"
    },
    "accelerator": "GPU",
    "gpuClass": "standard"
  },
  "cells": [
    {
      "cell_type": "markdown",
      "metadata": {
        "id": "view-in-github",
        "colab_type": "text"
      },
      "source": [
        "<a href=\"https://colab.research.google.com/github/HarshitGarg-web/Computer-vision-tasks/blob/main/Variational_Autoencoders.ipynb\" target=\"_parent\"><img src=\"https://colab.research.google.com/assets/colab-badge.svg\" alt=\"Open In Colab\"/></a>"
      ]
    },
    {
      "cell_type": "code",
      "source": [
        "import torch\n",
        "import torch.nn as nn\n",
        "import torch.nn.functional as F\n",
        "import torch.optim as optim\n",
        "from torchvision import datasets, transforms\n",
        "from torch.autograd import Variable\n",
        "from torchvision.utils import save_image\n",
        "\n",
        "bs = 100\n",
        "# MNIST Dataset\n",
        "fdataset = datasets.FashionMNIST(root='./mnist_data/', train=True, transform=transforms.ToTensor(), download=True)\n",
        "# test_dataset = datasets.MNIST(root='./mnist_data/', train=False, transform=transforms.ToTensor(), download=False)\n",
        "\n",
        "# Data Loader (Input Pipeline)\n",
        "dataloader = torch.utils.data.DataLoader(dataset=fdataset, batch_size=bs, shuffle=True)\n",
        "# test_loader = torch.utils.data.DataLoader(dataset=test_dataset, batch_size=bs, shuffle=False)"
      ],
      "metadata": {
        "id": "hgdSaEGseHHK"
      },
      "execution_count": 239,
      "outputs": []
    },
    {
      "cell_type": "code",
      "source": [
        "len(dataloader)"
      ],
      "metadata": {
        "colab": {
          "base_uri": "https://localhost:8080/"
        },
        "id": "_9WAa61ozMU-",
        "outputId": "36832f7f-f9c3-4327-9f8f-90711e3fe4f5"
      },
      "execution_count": 240,
      "outputs": [
        {
          "output_type": "execute_result",
          "data": {
            "text/plain": [
              "600"
            ]
          },
          "metadata": {},
          "execution_count": 240
        }
      ]
    },
    {
      "cell_type": "code",
      "source": [
        "import torch\n",
        "import torch.nn as nn\n",
        "from torch.autograd import Variable\n",
        "import torch.optim as optim\n",
        "from torch.utils.data import Dataset, DataLoader\n",
        "from torchvision import models, datasets\n",
        " \n",
        "import torchvision\n",
        "from torchvision import transforms\n",
        "from torchvision import models\n",
        " \n",
        "import torch.nn.functional as F\n",
        "import torchvision.transforms.functional as TF\n",
        " \n",
        "from PIL import Image\n",
        "import numpy as np\n",
        "import os\n",
        "import matplotlib.pyplot as plt\n",
        "import random\n",
        "import time\n",
        "\n",
        "from tqdm import tqdm \n",
        "\n",
        "import skimage\n",
        "from skimage import img_as_ubyte, img_as_float32\n",
        "\n",
        "from sklearn.model_selection import StratifiedShuffleSplit\n",
        "\n",
        "from glob import glob\n",
        "\n",
        "from torchsummary import summary\n",
        "\n",
        "import math\n",
        "import os\n",
        "\n",
        "\n",
        "device = torch.device('cuda' if torch.cuda.is_available() else 'cpu')\n",
        "print(device)\n"
      ],
      "metadata": {
        "colab": {
          "base_uri": "https://localhost:8080/"
        },
        "id": "jciJJrEVl-J2",
        "outputId": "5a0af721-1aae-4856-9cd5-a10a7a0899ad"
      },
      "execution_count": 241,
      "outputs": [
        {
          "output_type": "stream",
          "name": "stdout",
          "text": [
            "cuda\n"
          ]
        }
      ]
    },
    {
      "cell_type": "code",
      "source": [
        "class VAE(nn.Module):\n",
        "    def __init__(self, x_dim, h_dim1, h_dim2, z_dim):\n",
        "        super(VAE, self).__init__()\n",
        "        \n",
        "        # encoder part\n",
        "        self.fc1 = nn.Linear(x_dim, h_dim1)\n",
        "        self.fc2 = nn.Linear(h_dim1, h_dim2)\n",
        "        self.fc31 = nn.Linear(h_dim2, z_dim)\n",
        "        self.fc32 = nn.Linear(h_dim2, z_dim)\n",
        "        # decoder part\n",
        "        self.fc4 = nn.Linear(z_dim, h_dim2)\n",
        "        self.fc5 = nn.Linear(h_dim2, h_dim1)\n",
        "        self.fc6 = nn.Linear(h_dim1, x_dim)\n",
        "        \n",
        "    def encoder(self, x):\n",
        "        h = F.relu(self.fc1(x))\n",
        "        h = F.relu(self.fc2(h))\n",
        "        return self.fc31(h), self.fc32(h) # mu, log_var\n",
        "    \n",
        "    def sampling(self, mu, log_var):\n",
        "        std = torch.exp(0.5*log_var)\n",
        "        eps = torch.randn_like(std)\n",
        "        z=eps.mul(std).add_(mu)\n",
        "        \n",
        "        return  z # return z sample\n",
        "        \n",
        "    def decoder(self, z):\n",
        "        h = F.relu(self.fc4(z))\n",
        "        h = F.relu(self.fc5(h))\n",
        "        return F.sigmoid(self.fc6(h)) \n",
        "    \n",
        "    def forward(self, x):\n",
        "        mu, log_var = self.encoder(x.view(-1, 784))\n",
        "        z = self.sampling(mu, log_var)\n",
        "        return self.decoder(z), mu, log_var\n",
        "\n",
        "# build model\n",
        "vae = VAE(x_dim=784, h_dim1= 512, h_dim2=256, z_dim=10)\n",
        "if torch.cuda.is_available():\n",
        "    vae.cuda()\n"
      ],
      "metadata": {
        "id": "-qjEgsO7b67W"
      },
      "execution_count": 242,
      "outputs": []
    },
    {
      "cell_type": "code",
      "source": [
        "vae"
      ],
      "metadata": {
        "colab": {
          "base_uri": "https://localhost:8080/"
        },
        "id": "g-Q6EJFHcJ8d",
        "outputId": "bbf16d45-2e1a-4a7f-a055-55469739a2aa"
      },
      "execution_count": 243,
      "outputs": [
        {
          "output_type": "execute_result",
          "data": {
            "text/plain": [
              "VAE(\n",
              "  (fc1): Linear(in_features=784, out_features=512, bias=True)\n",
              "  (fc2): Linear(in_features=512, out_features=256, bias=True)\n",
              "  (fc31): Linear(in_features=256, out_features=10, bias=True)\n",
              "  (fc32): Linear(in_features=256, out_features=10, bias=True)\n",
              "  (fc4): Linear(in_features=10, out_features=256, bias=True)\n",
              "  (fc5): Linear(in_features=256, out_features=512, bias=True)\n",
              "  (fc6): Linear(in_features=512, out_features=784, bias=True)\n",
              ")"
            ]
          },
          "metadata": {},
          "execution_count": 243
        }
      ]
    },
    {
      "cell_type": "code",
      "source": [
        "optimizer = optim.Adam(vae.parameters())\n",
        "# return reconstruction error + KL divergence losses\n",
        "def loss_function(recon_x, x, mu, log_var):\n",
        "    BCE = F.binary_cross_entropy(recon_x, x.view(-1, 784), reduction='sum')\n",
        "    KLD = -0.5 * torch.sum(1 + log_var - mu.pow(2) - log_var.exp())\n",
        "    return BCE + KLD"
      ],
      "metadata": {
        "id": "ZMhsVAT5cdIX"
      },
      "execution_count": 244,
      "outputs": []
    },
    {
      "cell_type": "code",
      "source": [
        "def train(epoch):\n",
        "    vae.train()\n",
        "    train_loss = 0\n",
        "    for batch_idx, (data, _) in enumerate(dataloader):\n",
        "        data = data.cuda()\n",
        "        optimizer.zero_grad()\n",
        "        \n",
        "        recon_batch, mu, log_var = vae(data)\n",
        "        loss = loss_function(recon_batch, data, mu, log_var)\n",
        "        \n",
        "        loss.backward()\n",
        "        train_loss += loss.item()\n",
        "        optimizer.step()\n",
        "        \n",
        "        if batch_idx % 100 == 0:\n",
        "            print('Train Epoch: {} [{}/{} ({:.0f}%)]\\tLoss: {:.6f}'.format(\n",
        "                epoch, batch_idx * len(data), len(dataloader.dataset),\n",
        "                100. * batch_idx / len(dataloader), loss.item() / len(data)))\n",
        "    print('====> Epoch: {} Average loss: {:.4f}'.format(epoch, train_loss / len(dataloader.dataset)))"
      ],
      "metadata": {
        "id": "O3PTViLScmdL"
      },
      "execution_count": 245,
      "outputs": []
    },
    {
      "cell_type": "code",
      "source": [
        "def test():\n",
        "    vae.eval()\n",
        "    test_loss= 0\n",
        "    with torch.no_grad():\n",
        "        for data, _ in dataloader:\n",
        "            data = data.cuda()\n",
        "            recon, mu, log_var = vae(data)\n",
        "            \n",
        "            # sum up batch loss\n",
        "            test_loss += loss_function(recon, data, mu, log_var).item()\n",
        "        \n",
        "    test_loss /= len(dataloader.dataset)\n",
        "    print('====> Test set loss: {:.4f}'.format(test_loss))"
      ],
      "metadata": {
        "id": "8Z6zKGS3dGDt"
      },
      "execution_count": 246,
      "outputs": []
    },
    {
      "cell_type": "code",
      "source": [
        "for epoch in range(1, 11):\n",
        "    train(epoch)\n",
        "    test()"
      ],
      "metadata": {
        "colab": {
          "base_uri": "https://localhost:8080/"
        },
        "id": "MWPpTDw2dUPw",
        "outputId": "f06a6ef3-4208-4415-a427-57520ca6874f"
      },
      "execution_count": 247,
      "outputs": [
        {
          "output_type": "stream",
          "name": "stdout",
          "text": [
            "Train Epoch: 1 [0/60000 (0%)]\tLoss: 545.311367\n"
          ]
        },
        {
          "output_type": "stream",
          "name": "stderr",
          "text": [
            "/usr/local/lib/python3.9/dist-packages/torch/nn/functional.py:1967: UserWarning: nn.functional.sigmoid is deprecated. Use torch.sigmoid instead.\n",
            "  warnings.warn(\"nn.functional.sigmoid is deprecated. Use torch.sigmoid instead.\")\n"
          ]
        },
        {
          "output_type": "stream",
          "name": "stdout",
          "text": [
            "Train Epoch: 1 [10000/60000 (17%)]\tLoss: 277.073418\n",
            "Train Epoch: 1 [20000/60000 (33%)]\tLoss: 280.309062\n",
            "Train Epoch: 1 [30000/60000 (50%)]\tLoss: 256.794141\n",
            "Train Epoch: 1 [40000/60000 (67%)]\tLoss: 244.844395\n",
            "Train Epoch: 1 [50000/60000 (83%)]\tLoss: 256.773438\n",
            "====> Epoch: 1 Average loss: 277.7502\n",
            "====> Test set loss: 253.9606\n",
            "Train Epoch: 2 [0/60000 (0%)]\tLoss: 252.105391\n",
            "Train Epoch: 2 [10000/60000 (17%)]\tLoss: 251.060625\n",
            "Train Epoch: 2 [20000/60000 (33%)]\tLoss: 253.041289\n",
            "Train Epoch: 2 [30000/60000 (50%)]\tLoss: 251.974805\n",
            "Train Epoch: 2 [40000/60000 (67%)]\tLoss: 240.397051\n",
            "Train Epoch: 2 [50000/60000 (83%)]\tLoss: 265.134687\n",
            "====> Epoch: 2 Average loss: 251.0306\n",
            "====> Test set loss: 248.5860\n",
            "Train Epoch: 3 [0/60000 (0%)]\tLoss: 244.421953\n",
            "Train Epoch: 3 [10000/60000 (17%)]\tLoss: 251.771348\n",
            "Train Epoch: 3 [20000/60000 (33%)]\tLoss: 245.653281\n",
            "Train Epoch: 3 [30000/60000 (50%)]\tLoss: 246.613223\n",
            "Train Epoch: 3 [40000/60000 (67%)]\tLoss: 246.690586\n",
            "Train Epoch: 3 [50000/60000 (83%)]\tLoss: 240.189023\n",
            "====> Epoch: 3 Average loss: 247.1993\n",
            "====> Test set loss: 245.7552\n",
            "Train Epoch: 4 [0/60000 (0%)]\tLoss: 237.354180\n",
            "Train Epoch: 4 [10000/60000 (17%)]\tLoss: 236.365449\n",
            "Train Epoch: 4 [20000/60000 (33%)]\tLoss: 244.104004\n",
            "Train Epoch: 4 [30000/60000 (50%)]\tLoss: 240.615234\n",
            "Train Epoch: 4 [40000/60000 (67%)]\tLoss: 248.633047\n",
            "Train Epoch: 4 [50000/60000 (83%)]\tLoss: 256.707500\n",
            "====> Epoch: 4 Average loss: 245.1889\n",
            "====> Test set loss: 244.2597\n",
            "Train Epoch: 5 [0/60000 (0%)]\tLoss: 239.485840\n",
            "Train Epoch: 5 [10000/60000 (17%)]\tLoss: 248.886094\n",
            "Train Epoch: 5 [20000/60000 (33%)]\tLoss: 216.255723\n",
            "Train Epoch: 5 [30000/60000 (50%)]\tLoss: 252.819160\n",
            "Train Epoch: 5 [40000/60000 (67%)]\tLoss: 248.309863\n",
            "Train Epoch: 5 [50000/60000 (83%)]\tLoss: 238.164648\n",
            "====> Epoch: 5 Average loss: 243.9535\n",
            "====> Test set loss: 243.2830\n",
            "Train Epoch: 6 [0/60000 (0%)]\tLoss: 252.804414\n",
            "Train Epoch: 6 [10000/60000 (17%)]\tLoss: 251.389375\n",
            "Train Epoch: 6 [20000/60000 (33%)]\tLoss: 248.587578\n",
            "Train Epoch: 6 [30000/60000 (50%)]\tLoss: 243.191289\n",
            "Train Epoch: 6 [40000/60000 (67%)]\tLoss: 232.911816\n",
            "Train Epoch: 6 [50000/60000 (83%)]\tLoss: 247.972500\n",
            "====> Epoch: 6 Average loss: 243.0020\n",
            "Train Epoch: 7 [10000/60000 (17%)]\tLoss: 244.213828\n",
            "Train Epoch: 7 [20000/60000 (33%)]\tLoss: 248.879316\n",
            "Train Epoch: 7 [30000/60000 (50%)]\tLoss: 248.616660\n",
            "Train Epoch: 7 [40000/60000 (67%)]\tLoss: 232.957539\n",
            "Train Epoch: 7 [50000/60000 (83%)]\tLoss: 231.887461\n",
            "====> Epoch: 7 Average loss: 242.4732\n",
            "====> Test set loss: 241.8597\n",
            "Train Epoch: 8 [0/60000 (0%)]\tLoss: 242.080996\n",
            "Train Epoch: 8 [10000/60000 (17%)]\tLoss: 255.380742\n",
            "Train Epoch: 8 [20000/60000 (33%)]\tLoss: 252.851504\n",
            "Train Epoch: 8 [30000/60000 (50%)]\tLoss: 243.107793\n",
            "Train Epoch: 8 [40000/60000 (67%)]\tLoss: 235.237578\n",
            "Train Epoch: 8 [50000/60000 (83%)]\tLoss: 245.090898\n",
            "====> Epoch: 8 Average loss: 241.8638\n",
            "====> Test set loss: 241.8832\n",
            "Train Epoch: 9 [0/60000 (0%)]\tLoss: 236.501504\n",
            "Train Epoch: 9 [10000/60000 (17%)]\tLoss: 258.894434\n",
            "Train Epoch: 9 [20000/60000 (33%)]\tLoss: 234.392715\n",
            "Train Epoch: 9 [30000/60000 (50%)]\tLoss: 243.355586\n",
            "Train Epoch: 9 [40000/60000 (67%)]\tLoss: 230.275820\n",
            "Train Epoch: 9 [50000/60000 (83%)]\tLoss: 231.633027\n",
            "====> Epoch: 9 Average loss: 241.4289\n",
            "====> Test set loss: 241.2107\n",
            "Train Epoch: 10 [0/60000 (0%)]\tLoss: 234.319277\n",
            "Train Epoch: 10 [10000/60000 (17%)]\tLoss: 237.662305\n",
            "Train Epoch: 10 [20000/60000 (33%)]\tLoss: 238.443203\n",
            "Train Epoch: 10 [30000/60000 (50%)]\tLoss: 228.197773\n",
            "Train Epoch: 10 [40000/60000 (67%)]\tLoss: 234.720547\n",
            "Train Epoch: 10 [50000/60000 (83%)]\tLoss: 246.995293\n",
            "====> Epoch: 10 Average loss: 241.0132\n",
            "====> Test set loss: 240.5646\n"
          ]
        }
      ]
    },
    {
      "cell_type": "code",
      "source": [
        "  for i in dataloader:\n",
        "    img=i[0][0][0]\n",
        "    break"
      ],
      "metadata": {
        "id": "__5xCnWX3RHK"
      },
      "execution_count": 272,
      "outputs": []
    },
    {
      "cell_type": "code",
      "source": [
        "plt.imshow(img)"
      ],
      "metadata": {
        "colab": {
          "base_uri": "https://localhost:8080/",
          "height": 282
        },
        "id": "9QmHwYH3iyaW",
        "outputId": "2a821a80-829d-418e-ba98-df89d2170046"
      },
      "execution_count": 273,
      "outputs": [
        {
          "output_type": "execute_result",
          "data": {
            "text/plain": [
              "<matplotlib.image.AxesImage at 0x7f0e8254b340>"
            ]
          },
          "metadata": {},
          "execution_count": 273
        },
        {
          "output_type": "display_data",
          "data": {
            "text/plain": [
              "<Figure size 432x288 with 1 Axes>"
            ],
            "image/png": "[encoded data removed]"
          },
          "metadata": {
            "needs_background": "light"
          }
        }
      ]
    },
    {
      "cell_type": "code",
      "source": [
        "img.shape"
      ],
      "metadata": {
        "colab": {
          "base_uri": "https://localhost:8080/"
        },
        "id": "mDAaH5cAkjRh",
        "outputId": "023720d0-7190-4114-a99a-79137bc7f76e"
      },
      "execution_count": 274,
      "outputs": [
        {
          "output_type": "execute_result",
          "data": {
            "text/plain": [
              "torch.Size([28, 28])"
            ]
          },
          "metadata": {},
          "execution_count": 274
        }
      ]
    },
    {
      "cell_type": "code",
      "source": [
        "img=img.reshape(1,1,28,28)\n",
        "img=img.view(1,28*28)\n",
        "print(img.shape)\n",
        "img=img.to(device)\n",
        "mu,sigma=vae.encoder(img)\n",
        "print(mu.shape)\n",
        "z=vae.sampling(mu,sigma)\n",
        "print(z.shape)\n",
        "c=c.to(device)\n",
        "z=z+c\n",
        "\n",
        "x_reconstructed=vae.decoder(z)\n",
        "\n",
        "print(type(x_reconstructed))\n",
        "print(x_reconstructed.shape)\n",
        "\n",
        "x_reconstructed=x_reconstructed.view(28,28)\n",
        "x_reconstructed=x_reconstructed.cpu()\n",
        "x_reconstructed=x_reconstructed.detach().numpy()\n",
        "\n",
        "plt.imshow(x_reconstructed)\n",
        "\n",
        "\n",
        "\n",
        "\n",
        " \n"
      ],
      "metadata": {
        "colab": {
          "base_uri": "https://localhost:8080/",
          "height": 369
        },
        "id": "iLyiib7RkULC",
        "outputId": "34e6b323-33cf-4c68-b788-335517093559"
      },
      "execution_count": 275,
      "outputs": [
        {
          "output_type": "stream",
          "name": "stdout",
          "text": [
            "torch.Size([1, 784])\n",
            "torch.Size([1, 10])\n",
            "torch.Size([1, 10])\n",
            "<class 'torch.Tensor'>\n",
            "torch.Size([1, 784])\n"
          ]
        },
        {
          "output_type": "execute_result",
          "data": {
            "text/plain": [
              "<matplotlib.image.AxesImage at 0x7f0e823ae340>"
            ]
          },
          "metadata": {},
          "execution_count": 275
        },
        {
          "output_type": "display_data",
          "data": {
            "text/plain": [
              "<Figure size 432x288 with 1 Axes>"
            ],
            "image/png": "[encoded data removed]"
          },
          "metadata": {
            "needs_background": "light"
          }
        }
      ]
    },
    {
      "cell_type": "code",
      "source": [
        "a=torch.zeros(1,10)\n",
        "a\n",
        "b=torch.zeros(1,10)\n",
        "b[0][0]=1\n",
        "c=a+b"
      ],
      "metadata": {
        "id": "Zy5SuRWh3pzs"
      },
      "execution_count": 276,
      "outputs": []
    },
    {
      "cell_type": "code",
      "source": [
        "img=img.reshape(1,1,28,28)\n",
        "img=img.view(1,28*28)\n",
        "print(img.shape)\n",
        "img=img.to(device)\n",
        "mu,sigma=vae.encoder(img)\n",
        "print(mu.shape)\n",
        "z=vae.sampling(mu,sigma)\n",
        "print(z.shape)\n",
        "c=c.to(device)\n",
        "z=z+c\n",
        "\n",
        "x_reconstructed=vae.decoder(z)\n",
        "\n",
        "print(type(x_reconstructed))\n",
        "print(x_reconstructed.shape)\n",
        "\n",
        "x_reconstructed=x_reconstructed.view(28,28)\n",
        "x_reconstructed=x_reconstructed.cpu()\n",
        "x_reconstructed=x_reconstructed.detach().numpy()\n",
        "\n",
        "plt.imshow(x_reconstructed)\n",
        "\n",
        "\n",
        "\n",
        "\n",
        " \n"
      ],
      "metadata": {
        "colab": {
          "base_uri": "https://localhost:8080/",
          "height": 369
        },
        "id": "8qbQ7sWN35We",
        "outputId": "a58fffda-3044-412d-df27-9bceed4e9f60"
      },
      "execution_count": 277,
      "outputs": [
        {
          "output_type": "stream",
          "name": "stdout",
          "text": [
            "torch.Size([1, 784])\n",
            "torch.Size([1, 10])\n",
            "torch.Size([1, 10])\n",
            "<class 'torch.Tensor'>\n",
            "torch.Size([1, 784])\n"
          ]
        },
        {
          "output_type": "execute_result",
          "data": {
            "text/plain": [
              "<matplotlib.image.AxesImage at 0x7f0e82422310>"
            ]
          },
          "metadata": {},
          "execution_count": 277
        },
        {
          "output_type": "display_data",
          "data": {
            "text/plain": [
              "<Figure size 432x288 with 1 Axes>"
            ],
            "image/png": "[encoded data removed]"
          },
          "metadata": {
            "needs_background": "light"
          }
        }
      ]
    },
    {
      "cell_type": "code",
      "source": [
        "a=torch.zeros(1,10)\n",
        "a\n",
        "b=torch.zeros(1,10)\n",
        "b[0][1]=1\n",
        "c=a+b"
      ],
      "metadata": {
        "id": "GK4k6Vht3-nR"
      },
      "execution_count": 278,
      "outputs": []
    },
    {
      "cell_type": "code",
      "source": [
        "img=img.reshape(1,1,28,28)\n",
        "img=img.view(1,28*28)\n",
        "print(img.shape)\n",
        "img=img.to(device)\n",
        "mu,sigma=vae.encoder(img)\n",
        "print(mu.shape)\n",
        "z=vae.sampling(mu,sigma)\n",
        "print(z.shape)\n",
        "c=c.to(device)\n",
        "z=z+c\n",
        "\n",
        "x_reconstructed=vae.decoder(z)\n",
        "\n",
        "print(type(x_reconstructed))\n",
        "print(x_reconstructed.shape)\n",
        "\n",
        "x_reconstructed=x_reconstructed.view(28,28)\n",
        "x_reconstructed=x_reconstructed.cpu()\n",
        "x_reconstructed=x_reconstructed.detach().numpy()\n",
        "\n",
        "plt.imshow(x_reconstructed)\n",
        "\n",
        "\n",
        "\n",
        "\n",
        " \n"
      ],
      "metadata": {
        "colab": {
          "base_uri": "https://localhost:8080/",
          "height": 369
        },
        "id": "nggK70Xl3__O",
        "outputId": "d2e6057a-8052-4072-bfd6-6c987c817cb7"
      },
      "execution_count": 279,
      "outputs": [
        {
          "output_type": "stream",
          "name": "stdout",
          "text": [
            "torch.Size([1, 784])\n",
            "torch.Size([1, 10])\n",
            "torch.Size([1, 10])\n",
            "<class 'torch.Tensor'>\n",
            "torch.Size([1, 784])\n"
          ]
        },
        {
          "output_type": "execute_result",
          "data": {
            "text/plain": [
              "<matplotlib.image.AxesImage at 0x7f0e824e3610>"
            ]
          },
          "metadata": {},
          "execution_count": 279
        },
        {
          "output_type": "display_data",
          "data": {
            "text/plain": [
              "<Figure size 432x288 with 1 Axes>"
            ],
            "image/png": "[encoded data removed]"
          },
          "metadata": {
            "needs_background": "light"
          }
        }
      ]
    },
    {
      "cell_type": "code",
      "source": [
        "a=torch.zeros(1,10)\n",
        "a\n",
        "b=torch.zeros(1,10)\n",
        "b[0][2]=1\n",
        "c=a+b"
      ],
      "metadata": {
        "id": "_TiYKzIv8QvD"
      },
      "execution_count": 280,
      "outputs": []
    },
    {
      "cell_type": "code",
      "source": [
        "img=img.reshape(1,1,28,28)\n",
        "img=img.view(1,28*28)\n",
        "print(img.shape)\n",
        "img=img.to(device)\n",
        "mu,sigma=vae.encoder(img)\n",
        "print(mu.shape)\n",
        "z=vae.sampling(mu,sigma)\n",
        "print(z.shape)\n",
        "c=c.to(device)\n",
        "z=z+c\n",
        "\n",
        "x_reconstructed=vae.decoder(z)\n",
        "\n",
        "print(type(x_reconstructed))\n",
        "print(x_reconstructed.shape)\n",
        "\n",
        "x_reconstructed=x_reconstructed.view(28,28)\n",
        "x_reconstructed=x_reconstructed.cpu()\n",
        "x_reconstructed=x_reconstructed.detach().numpy()\n",
        "\n",
        "plt.imshow(x_reconstructed)\n",
        "\n",
        "\n",
        "\n",
        "\n",
        " \n"
      ],
      "metadata": {
        "colab": {
          "base_uri": "https://localhost:8080/",
          "height": 369
        },
        "id": "ibhdcGOS8SDP",
        "outputId": "94490a45-109d-4308-c3e6-06c060920b1f"
      },
      "execution_count": 281,
      "outputs": [
        {
          "output_type": "stream",
          "name": "stdout",
          "text": [
            "torch.Size([1, 784])\n",
            "torch.Size([1, 10])\n",
            "torch.Size([1, 10])\n",
            "<class 'torch.Tensor'>\n",
            "torch.Size([1, 784])\n"
          ]
        },
        {
          "output_type": "execute_result",
          "data": {
            "text/plain": [
              "<matplotlib.image.AxesImage at 0x7f0e8252a400>"
            ]
          },
          "metadata": {},
          "execution_count": 281
        },
        {
          "output_type": "display_data",
          "data": {
            "text/plain": [
              "<Figure size 432x288 with 1 Axes>"
            ],
            "image/png": "[encoded data removed]"
          },
          "metadata": {
            "needs_background": "light"
          }
        }
      ]
    },
    {
      "cell_type": "code",
      "source": [
        "a=torch.zeros(1,10)\n",
        "a\n",
        "b=torch.zeros(1,10)\n",
        "b[0][3]=1\n",
        "c=a+b"
      ],
      "metadata": {
        "id": "sDYshUB88UsD"
      },
      "execution_count": 282,
      "outputs": []
    },
    {
      "cell_type": "code",
      "source": [
        "img=img.reshape(1,1,28,28)\n",
        "img=img.view(1,28*28)\n",
        "print(img.shape)\n",
        "img=img.to(device)\n",
        "mu,sigma=vae.encoder(img)\n",
        "print(mu.shape)\n",
        "z=vae.sampling(mu,sigma)\n",
        "print(z.shape)\n",
        "c=c.to(device)\n",
        "z=z+c\n",
        "\n",
        "x_reconstructed=vae.decoder(z)\n",
        "\n",
        "print(type(x_reconstructed))\n",
        "print(x_reconstructed.shape)\n",
        "\n",
        "x_reconstructed=x_reconstructed.view(28,28)\n",
        "x_reconstructed=x_reconstructed.cpu()\n",
        "x_reconstructed=x_reconstructed.detach().numpy()\n",
        "\n",
        "plt.imshow(x_reconstructed)\n",
        "\n",
        "\n",
        "\n",
        "\n",
        " \n"
      ],
      "metadata": {
        "colab": {
          "base_uri": "https://localhost:8080/",
          "height": 369
        },
        "id": "5Tc05L2e8Waf",
        "outputId": "125f6c33-7ffa-43d0-a83e-da970271064a"
      },
      "execution_count": 283,
      "outputs": [
        {
          "output_type": "stream",
          "name": "stdout",
          "text": [
            "torch.Size([1, 784])\n",
            "torch.Size([1, 10])\n",
            "torch.Size([1, 10])\n",
            "<class 'torch.Tensor'>\n",
            "torch.Size([1, 784])\n"
          ]
        },
        {
          "output_type": "execute_result",
          "data": {
            "text/plain": [
              "<matplotlib.image.AxesImage at 0x7f0e82458d30>"
            ]
          },
          "metadata": {},
          "execution_count": 283
        },
        {
          "output_type": "display_data",
          "data": {
            "text/plain": [
              "<Figure size 432x288 with 1 Axes>"
            ],
            "image/png": "[encoded data removed]"
          },
          "metadata": {
            "needs_background": "light"
          }
        }
      ]
    },
    {
      "cell_type": "code",
      "source": [
        "a=torch.zeros(1,10)\n",
        "a\n",
        "b=torch.zeros(1,10)\n",
        "b[0][4]=1\n",
        "c=a+b"
      ],
      "metadata": {
        "id": "Ppl94rfW9_t0"
      },
      "execution_count": 284,
      "outputs": []
    },
    {
      "cell_type": "code",
      "source": [
        "img=img.reshape(1,1,28,28)\n",
        "img=img.view(1,28*28)\n",
        "print(img.shape)\n",
        "img=img.to(device)\n",
        "mu,sigma=vae.encoder(img)\n",
        "print(mu.shape)\n",
        "z=vae.sampling(mu,sigma)\n",
        "print(z.shape)\n",
        "c=c.to(device)\n",
        "z=z+c\n",
        "\n",
        "x_reconstructed=vae.decoder(z)\n",
        "\n",
        "print(type(x_reconstructed))\n",
        "print(x_reconstructed.shape)\n",
        "\n",
        "x_reconstructed=x_reconstructed.view(28,28)\n",
        "x_reconstructed=x_reconstructed.cpu()\n",
        "x_reconstructed=x_reconstructed.detach().numpy()\n",
        "\n",
        "plt.imshow(x_reconstructed)\n",
        "\n",
        "\n",
        "\n",
        "\n",
        " \n"
      ],
      "metadata": {
        "colab": {
          "base_uri": "https://localhost:8080/",
          "height": 369
        },
        "id": "1Fydq-7V-BO9",
        "outputId": "0eb89691-4634-48f5-8c00-3fe4198e04f8"
      },
      "execution_count": 285,
      "outputs": [
        {
          "output_type": "stream",
          "name": "stdout",
          "text": [
            "torch.Size([1, 784])\n",
            "torch.Size([1, 10])\n",
            "torch.Size([1, 10])\n",
            "<class 'torch.Tensor'>\n",
            "torch.Size([1, 784])\n"
          ]
        },
        {
          "output_type": "execute_result",
          "data": {
            "text/plain": [
              "<matplotlib.image.AxesImage at 0x7f0e822debb0>"
            ]
          },
          "metadata": {},
          "execution_count": 285
        },
        {
          "output_type": "display_data",
          "data": {
            "text/plain": [
              "<Figure size 432x288 with 1 Axes>"
            ],
            "image/png": "[encoded data removed]"
          },
          "metadata": {
            "needs_background": "light"
          }
        }
      ]
    },
    {
      "cell_type": "code",
      "source": [
        "a=torch.zeros(1,10)\n",
        "a\n",
        "b=torch.zeros(1,10)\n",
        "b[0][5]=1\n",
        "c=a+b"
      ],
      "metadata": {
        "id": "jdYpW64B-B78"
      },
      "execution_count": 286,
      "outputs": []
    },
    {
      "cell_type": "code",
      "source": [
        "img=img.reshape(1,1,28,28)\n",
        "img=img.view(1,28*28)\n",
        "print(img.shape)\n",
        "img=img.to(device)\n",
        "mu,sigma=vae.encoder(img)\n",
        "print(mu.shape)\n",
        "z=vae.sampling(mu,sigma)\n",
        "print(z.shape)\n",
        "c=c.to(device)\n",
        "z=z+c\n",
        "\n",
        "x_reconstructed=vae.decoder(z)\n",
        "\n",
        "print(type(x_reconstructed))\n",
        "print(x_reconstructed.shape)\n",
        "\n",
        "x_reconstructed=x_reconstructed.view(28,28)\n",
        "x_reconstructed=x_reconstructed.cpu()\n",
        "x_reconstructed=x_reconstructed.detach().numpy()\n",
        "\n",
        "plt.imshow(x_reconstructed)\n",
        "\n",
        "\n",
        "\n",
        "\n",
        " \n"
      ],
      "metadata": {
        "colab": {
          "base_uri": "https://localhost:8080/",
          "height": 369
        },
        "id": "1GEZJNYl-F7C",
        "outputId": "cf7e6649-6805-4a40-a2ff-8067d01339b6"
      },
      "execution_count": 287,
      "outputs": [
        {
          "output_type": "stream",
          "name": "stdout",
          "text": [
            "torch.Size([1, 784])\n",
            "torch.Size([1, 10])\n",
            "torch.Size([1, 10])\n",
            "<class 'torch.Tensor'>\n",
            "torch.Size([1, 784])\n"
          ]
        },
        {
          "output_type": "execute_result",
          "data": {
            "text/plain": [
              "<matplotlib.image.AxesImage at 0x7f0e8225cbb0>"
            ]
          },
          "metadata": {},
          "execution_count": 287
        },
        {
          "output_type": "display_data",
          "data": {
            "text/plain": [
              "<Figure size 432x288 with 1 Axes>"
            ],
            "image/png": "[encoded data removed]"
          },
          "metadata": {
            "needs_background": "light"
          }
        }
      ]
    },
    {
      "cell_type": "code",
      "source": [
        "a=torch.zeros(1,10)\n",
        "a\n",
        "b=torch.zeros(1,10)\n",
        "b[0][6]=1\n",
        "c=a+b"
      ],
      "metadata": {
        "id": "yCckWFun-GiT"
      },
      "execution_count": 288,
      "outputs": []
    },
    {
      "cell_type": "code",
      "source": [
        "img=img.reshape(1,1,28,28)\n",
        "img=img.view(1,28*28)\n",
        "print(img.shape)\n",
        "img=img.to(device)\n",
        "mu,sigma=vae.encoder(img)\n",
        "print(mu.shape)\n",
        "z=vae.sampling(mu,sigma)\n",
        "print(z.shape)\n",
        "c=c.to(device)\n",
        "z=z+c\n",
        "\n",
        "x_reconstructed=vae.decoder(z)\n",
        "\n",
        "print(type(x_reconstructed))\n",
        "print(x_reconstructed.shape)\n",
        "\n",
        "x_reconstructed=x_reconstructed.view(28,28)\n",
        "x_reconstructed=x_reconstructed.cpu()\n",
        "x_reconstructed=x_reconstructed.detach().numpy()\n",
        "\n",
        "plt.imshow(x_reconstructed)\n",
        "\n",
        "\n",
        "\n",
        "\n",
        " \n"
      ],
      "metadata": {
        "colab": {
          "base_uri": "https://localhost:8080/",
          "height": 369
        },
        "id": "uNAqr_8g-Gra",
        "outputId": "7ac2968f-f221-459e-f301-ea38c59490b6"
      },
      "execution_count": 289,
      "outputs": [
        {
          "output_type": "stream",
          "name": "stdout",
          "text": [
            "torch.Size([1, 784])\n",
            "torch.Size([1, 10])\n",
            "torch.Size([1, 10])\n",
            "<class 'torch.Tensor'>\n",
            "torch.Size([1, 784])\n"
          ]
        },
        {
          "output_type": "execute_result",
          "data": {
            "text/plain": [
              "<matplotlib.image.AxesImage at 0x7f0e8225c760>"
            ]
          },
          "metadata": {},
          "execution_count": 289
        },
        {
          "output_type": "display_data",
          "data": {
            "text/plain": [
              "<Figure size 432x288 with 1 Axes>"
            ],
            "image/png": "[encoded data removed]"
          },
          "metadata": {
            "needs_background": "light"
          }
        }
      ]
    },
    {
      "cell_type": "code",
      "source": [
        "a=torch.zeros(1,10)\n",
        "a\n",
        "b=torch.zeros(1,10)\n",
        "b[0][7]=1\n",
        "c=a+b"
      ],
      "metadata": {
        "id": "anyb9sFB-N1C"
      },
      "execution_count": 290,
      "outputs": []
    },
    {
      "cell_type": "code",
      "source": [
        "img=img.reshape(1,1,28,28)\n",
        "img=img.view(1,28*28)\n",
        "print(img.shape)\n",
        "img=img.to(device)\n",
        "mu,sigma=vae.encoder(img)\n",
        "print(mu.shape)\n",
        "z=vae.sampling(mu,sigma)\n",
        "print(z.shape)\n",
        "c=c.to(device)\n",
        "z=z+c\n",
        "\n",
        "x_reconstructed=vae.decoder(z)\n",
        "\n",
        "print(type(x_reconstructed))\n",
        "print(x_reconstructed.shape)\n",
        "\n",
        "x_reconstructed=x_reconstructed.view(28,28)\n",
        "x_reconstructed=x_reconstructed.cpu()\n",
        "x_reconstructed=x_reconstructed.detach().numpy()\n",
        "\n",
        "plt.imshow(x_reconstructed)\n",
        "\n",
        "\n",
        "\n",
        "\n",
        " \n"
      ],
      "metadata": {
        "colab": {
          "base_uri": "https://localhost:8080/",
          "height": 369
        },
        "id": "bE6gN6OC-aRH",
        "outputId": "f5ead572-558b-48f3-b02d-03af6ce27d9a"
      },
      "execution_count": 291,
      "outputs": [
        {
          "output_type": "stream",
          "name": "stdout",
          "text": [
            "torch.Size([1, 784])\n",
            "torch.Size([1, 10])\n",
            "torch.Size([1, 10])\n",
            "<class 'torch.Tensor'>\n",
            "torch.Size([1, 784])\n"
          ]
        },
        {
          "output_type": "execute_result",
          "data": {
            "text/plain": [
              "<matplotlib.image.AxesImage at 0x7f0e8226ad00>"
            ]
          },
          "metadata": {},
          "execution_count": 291
        },
        {
          "output_type": "display_data",
          "data": {
            "text/plain": [
              "<Figure size 432x288 with 1 Axes>"
            ],
            "image/png": "[encoded data removed]"
          },
          "metadata": {
            "needs_background": "light"
          }
        }
      ]
    },
    {
      "cell_type": "code",
      "source": [
        "a=torch.zeros(1,10)\n",
        "a\n",
        "b=torch.zeros(1,10)\n",
        "b[0][8]=1\n",
        "c=a+b"
      ],
      "metadata": {
        "id": "Mzesvstq-b2-"
      },
      "execution_count": 292,
      "outputs": []
    },
    {
      "cell_type": "code",
      "source": [
        "img=img.reshape(1,1,28,28)\n",
        "img=img.view(1,28*28)\n",
        "print(img.shape)\n",
        "img=img.to(device)\n",
        "mu,sigma=vae.encoder(img)\n",
        "print(mu.shape)\n",
        "z=vae.sampling(mu,sigma)\n",
        "print(z.shape)\n",
        "c=c.to(device)\n",
        "z=z+c\n",
        "\n",
        "x_reconstructed=vae.decoder(z)\n",
        "\n",
        "print(type(x_reconstructed))\n",
        "print(x_reconstructed.shape)\n",
        "\n",
        "x_reconstructed=x_reconstructed.view(28,28)\n",
        "x_reconstructed=x_reconstructed.cpu()\n",
        "x_reconstructed=x_reconstructed.detach().numpy()\n",
        "\n",
        "plt.imshow(x_reconstructed)\n",
        "\n",
        "\n",
        "\n",
        "\n",
        " \n"
      ],
      "metadata": {
        "colab": {
          "base_uri": "https://localhost:8080/",
          "height": 369
        },
        "id": "XIvjwYoO-dJi",
        "outputId": "a7255a24-2972-474e-9cfe-116182bdea80"
      },
      "execution_count": 293,
      "outputs": [
        {
          "output_type": "stream",
          "name": "stdout",
          "text": [
            "torch.Size([1, 784])\n",
            "torch.Size([1, 10])\n",
            "torch.Size([1, 10])\n",
            "<class 'torch.Tensor'>\n",
            "torch.Size([1, 784])\n"
          ]
        },
        {
          "output_type": "execute_result",
          "data": {
            "text/plain": [
              "<matplotlib.image.AxesImage at 0x7f0e8212a7f0>"
            ]
          },
          "metadata": {},
          "execution_count": 293
        },
        {
          "output_type": "display_data",
          "data": {
            "text/plain": [
              "<Figure size 432x288 with 1 Axes>"
            ],
            "image/png": "[encoded data removed]"
          },
          "metadata": {
            "needs_background": "light"
          }
        }
      ]
    },
    {
      "cell_type": "code",
      "source": [
        "a=torch.zeros(1,10)\n",
        "a\n",
        "b=torch.zeros(1,10)\n",
        "b[0][9]=1\n",
        "c=a+b"
      ],
      "metadata": {
        "id": "DDdrd26f-fCa"
      },
      "execution_count": 294,
      "outputs": []
    },
    {
      "cell_type": "code",
      "source": [
        "img=img.reshape(1,1,28,28)\n",
        "img=img.view(1,28*28)\n",
        "print(img.shape)\n",
        "img=img.to(device)\n",
        "mu,sigma=vae.encoder(img)\n",
        "print(mu.shape)\n",
        "z=vae.sampling(mu,sigma)\n",
        "print(z.shape)\n",
        "c=c.to(device)\n",
        "z=z+c\n",
        "\n",
        "x_reconstructed=vae.decoder(z)\n",
        "\n",
        "print(type(x_reconstructed))\n",
        "print(x_reconstructed.shape)\n",
        "\n",
        "x_reconstructed=x_reconstructed.view(28,28)\n",
        "x_reconstructed=x_reconstructed.cpu()\n",
        "x_reconstructed=x_reconstructed.detach().numpy()\n",
        "\n",
        "plt.imshow(x_reconstructed)\n",
        "\n",
        "\n",
        "\n",
        "\n",
        " \n"
      ],
      "metadata": {
        "colab": {
          "base_uri": "https://localhost:8080/",
          "height": 369
        },
        "id": "jc9G4DYg-gOb",
        "outputId": "4011742b-1e75-4360-9b53-28da900ed037"
      },
      "execution_count": 295,
      "outputs": [
        {
          "output_type": "stream",
          "name": "stdout",
          "text": [
            "torch.Size([1, 784])\n",
            "torch.Size([1, 10])\n",
            "torch.Size([1, 10])\n",
            "<class 'torch.Tensor'>\n",
            "torch.Size([1, 784])\n"
          ]
        },
        {
          "output_type": "execute_result",
          "data": {
            "text/plain": [
              "<matplotlib.image.AxesImage at 0x7f0e820aa1f0>"
            ]
          },
          "metadata": {},
          "execution_count": 295
        },
        {
          "output_type": "display_data",
          "data": {
            "text/plain": [
              "<Figure size 432x288 with 1 Axes>"
            ],
            "image/png": "[encoded data removed]"
          },
          "metadata": {
            "needs_background": "light"
          }
        }
      ]
    },
    {
      "cell_type": "code",
      "source": [],
      "metadata": {
        "id": "cpQplwcs-lxw"
      },
      "execution_count": 295,
      "outputs": []
    }
  ]
}
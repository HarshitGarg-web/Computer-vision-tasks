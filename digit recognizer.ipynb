{
  "nbformat": 4,
  "nbformat_minor": 0,
  "metadata": {
    "colab": {
      "provenance": [],
      "authorship_tag": "ABX9TyNYc7osjkaAFpbxCbPYLqEO",
      "include_colab_link": true
    },
    "kernelspec": {
      "name": "python3",
      "display_name": "Python 3"
    },
    "language_info": {
      "name": "python"
    },
    "accelerator": "GPU",
    "gpuClass": "standard"
  },
  "cells": [
    {
      "cell_type": "markdown",
      "metadata": {
        "id": "view-in-github",
        "colab_type": "text"
      },
      "source": [
        "<a href=\"https://colab.research.google.com/github/HarshitGarg-web/Computer-vision-tasks/blob/main/Untitled8.ipynb\" target=\"_parent\"><img src=\"https://colab.research.google.com/assets/colab-badge.svg\" alt=\"Open In Colab\"/></a>"
      ]
    },
    {
      "cell_type": "code",
      "execution_count": 1,
      "metadata": {
        "colab": {
          "base_uri": "https://localhost:8080/"
        },
        "id": "BgFOx1fSgZTB",
        "outputId": "8b1dd942-2f00-4dac-dbad-6718fc89ee3a"
      },
      "outputs": [
        {
          "output_type": "stream",
          "name": "stdout",
          "text": [
            "cuda\n"
          ]
        }
      ],
      "source": [
        "import torch\n",
        "import torch.nn as nn\n",
        "from torch.autograd import Variable\n",
        "import torch.optim as optim\n",
        "from torch.utils.data import Dataset, DataLoader\n",
        "from torchvision import models, datasets\n",
        " \n",
        "import torchvision\n",
        "from torchvision import transforms\n",
        "from torchvision import models\n",
        " \n",
        "import torch.nn.functional as F\n",
        "import torchvision.transforms.functional as TF\n",
        " \n",
        "from PIL import Image\n",
        "import numpy as np\n",
        "import os\n",
        "import matplotlib.pyplot as plt\n",
        "import random\n",
        "import time\n",
        "\n",
        "from tqdm import tqdm \n",
        "\n",
        "import skimage\n",
        "from skimage import img_as_ubyte, img_as_float32\n",
        "\n",
        "from sklearn.model_selection import StratifiedShuffleSplit\n",
        "\n",
        "from glob import glob\n",
        "\n",
        "from torchsummary import summary\n",
        "\n",
        "import math\n",
        "import os\n",
        "\n",
        "device = torch.device('cuda' if torch.cuda.is_available() else 'cpu')\n",
        "print(device)"
      ]
    },
    {
      "cell_type": "code",
      "source": [
        "import tensorflow as tf"
      ],
      "metadata": {
        "id": "T-BBwLY1RXyA"
      },
      "execution_count": 2,
      "outputs": []
    },
    {
      "cell_type": "code",
      "source": [
        "!pip install kaggle\n",
        "\n",
        "from google.colab import files\n",
        "files.upload()\n",
        "\n",
        "\n",
        "!mkdir ~/.kaggle\n",
        "!cp kaggle.json ~/.kaggle/\n",
        "!chmod 600 ~/.kaggle/kaggle.json\n",
        "\n",
        "!kaggle competitions download -c digit-recognizer"
      ],
      "metadata": {
        "colab": {
          "base_uri": "https://localhost:8080/",
          "height": 316
        },
        "id": "4A3CxEn6FPjo",
        "outputId": "5a24fec6-a343-461b-9f3d-7c5800c9b354"
      },
      "execution_count": 3,
      "outputs": [
        {
          "output_type": "stream",
          "name": "stdout",
          "text": [
            "Looking in indexes: https://pypi.org/simple, https://us-python.pkg.dev/colab-wheels/public/simple/\n",
            "Requirement already satisfied: kaggle in /usr/local/lib/python3.9/dist-packages (1.5.13)\n",
            "Requirement already satisfied: certifi in /usr/local/lib/python3.9/dist-packages (from kaggle) (2022.12.7)\n",
            "Requirement already satisfied: six>=1.10 in /usr/local/lib/python3.9/dist-packages (from kaggle) (1.15.0)\n",
            "Requirement already satisfied: python-dateutil in /usr/local/lib/python3.9/dist-packages (from kaggle) (2.8.2)\n",
            "Requirement already satisfied: tqdm in /usr/local/lib/python3.9/dist-packages (from kaggle) (4.65.0)\n",
            "Requirement already satisfied: python-slugify in /usr/local/lib/python3.9/dist-packages (from kaggle) (8.0.1)\n",
            "Requirement already satisfied: urllib3 in /usr/local/lib/python3.9/dist-packages (from kaggle) (1.26.14)\n",
            "Requirement already satisfied: requests in /usr/local/lib/python3.9/dist-packages (from kaggle) (2.25.1)\n",
            "Requirement already satisfied: text-unidecode>=1.3 in /usr/local/lib/python3.9/dist-packages (from python-slugify->kaggle) (1.3)\n",
            "Requirement already satisfied: chardet<5,>=3.0.2 in /usr/local/lib/python3.9/dist-packages (from requests->kaggle) (4.0.0)\n",
            "Requirement already satisfied: idna<3,>=2.5 in /usr/local/lib/python3.9/dist-packages (from requests->kaggle) (2.10)\n"
          ]
        },
        {
          "output_type": "display_data",
          "data": {
            "text/plain": [
              "<IPython.core.display.HTML object>"
            ],
            "text/html": [
              "\n",
              "     <input type=\"file\" id=\"files-bfc5cae9-357e-4cc0-9fce-cef46f128f31\" name=\"files[]\" multiple disabled\n",
              "        style=\"border:none\" />\n",
              "     <output id=\"result-bfc5cae9-357e-4cc0-9fce-cef46f128f31\">\n",
              "      Upload widget is only available when the cell has been executed in the\n",
              "      current browser session. Please rerun this cell to enable.\n",
              "      </output>\n",
              "      <script>// Copyright 2017 Google LLC\n",
              "//\n",
              "// Licensed under the Apache License, Version 2.0 (the \"License\");\n",
              "// you may not use this file except in compliance with the License.\n",
              "// You may obtain a copy of the License at\n",
              "//\n",
              "//      http://www.apache.org/licenses/LICENSE-2.0\n",
              "//\n",
              "// Unless required by applicable law or agreed to in writing, software\n",
              "// distributed under the License is distributed on an \"AS IS\" BASIS,\n",
              "// WITHOUT WARRANTIES OR CONDITIONS OF ANY KIND, either express or implied.\n",
              "// See the License for the specific language governing permissions and\n",
              "// limitations under the License.\n",
              "\n",
              "/**\n",
              " * @fileoverview Helpers for google.colab Python module.\n",
              " */\n",
              "(function(scope) {\n",
              "function span(text, styleAttributes = {}) {\n",
              "  const element = document.createElement('span');\n",
              "  element.textContent = text;\n",
              "  for (const key of Object.keys(styleAttributes)) {\n",
              "    element.style[key] = styleAttributes[key];\n",
              "  }\n",
              "  return element;\n",
              "}\n",
              "\n",
              "// Max number of bytes which will be uploaded at a time.\n",
              "const MAX_PAYLOAD_SIZE = 100 * 1024;\n",
              "\n",
              "function _uploadFiles(inputId, outputId) {\n",
              "  const steps = uploadFilesStep(inputId, outputId);\n",
              "  const outputElement = document.getElementById(outputId);\n",
              "  // Cache steps on the outputElement to make it available for the next call\n",
              "  // to uploadFilesContinue from Python.\n",
              "  outputElement.steps = steps;\n",
              "\n",
              "  return _uploadFilesContinue(outputId);\n",
              "}\n",
              "\n",
              "// This is roughly an async generator (not supported in the browser yet),\n",
              "// where there are multiple asynchronous steps and the Python side is going\n",
              "// to poll for completion of each step.\n",
              "// This uses a Promise to block the python side on completion of each step,\n",
              "// then passes the result of the previous step as the input to the next step.\n",
              "function _uploadFilesContinue(outputId) {\n",
              "  const outputElement = document.getElementById(outputId);\n",
              "  const steps = outputElement.steps;\n",
              "\n",
              "  const next = steps.next(outputElement.lastPromiseValue);\n",
              "  return Promise.resolve(next.value.promise).then((value) => {\n",
              "    // Cache the last promise value to make it available to the next\n",
              "    // step of the generator.\n",
              "    outputElement.lastPromiseValue = value;\n",
              "    return next.value.response;\n",
              "  });\n",
              "}\n",
              "\n",
              "/**\n",
              " * Generator function which is called between each async step of the upload\n",
              " * process.\n",
              " * @param {string} inputId Element ID of the input file picker element.\n",
              " * @param {string} outputId Element ID of the output display.\n",
              " * @return {!Iterable<!Object>} Iterable of next steps.\n",
              " */\n",
              "function* uploadFilesStep(inputId, outputId) {\n",
              "  const inputElement = document.getElementById(inputId);\n",
              "  inputElement.disabled = false;\n",
              "\n",
              "  const outputElement = document.getElementById(outputId);\n",
              "  outputElement.innerHTML = '';\n",
              "\n",
              "  const pickedPromise = new Promise((resolve) => {\n",
              "    inputElement.addEventListener('change', (e) => {\n",
              "      resolve(e.target.files);\n",
              "    });\n",
              "  });\n",
              "\n",
              "  const cancel = document.createElement('button');\n",
              "  inputElement.parentElement.appendChild(cancel);\n",
              "  cancel.textContent = 'Cancel upload';\n",
              "  const cancelPromise = new Promise((resolve) => {\n",
              "    cancel.onclick = () => {\n",
              "      resolve(null);\n",
              "    };\n",
              "  });\n",
              "\n",
              "  // Wait for the user to pick the files.\n",
              "  const files = yield {\n",
              "    promise: Promise.race([pickedPromise, cancelPromise]),\n",
              "    response: {\n",
              "      action: 'starting',\n",
              "    }\n",
              "  };\n",
              "\n",
              "  cancel.remove();\n",
              "\n",
              "  // Disable the input element since further picks are not allowed.\n",
              "  inputElement.disabled = true;\n",
              "\n",
              "  if (!files) {\n",
              "    return {\n",
              "      response: {\n",
              "        action: 'complete',\n",
              "      }\n",
              "    };\n",
              "  }\n",
              "\n",
              "  for (const file of files) {\n",
              "    const li = document.createElement('li');\n",
              "    li.append(span(file.name, {fontWeight: 'bold'}));\n",
              "    li.append(span(\n",
              "        `(${file.type || 'n/a'}) - ${file.size} bytes, ` +\n",
              "        `last modified: ${\n",
              "            file.lastModifiedDate ? file.lastModifiedDate.toLocaleDateString() :\n",
              "                                    'n/a'} - `));\n",
              "    const percent = span('0% done');\n",
              "    li.appendChild(percent);\n",
              "\n",
              "    outputElement.appendChild(li);\n",
              "\n",
              "    const fileDataPromise = new Promise((resolve) => {\n",
              "      const reader = new FileReader();\n",
              "      reader.onload = (e) => {\n",
              "        resolve(e.target.result);\n",
              "      };\n",
              "      reader.readAsArrayBuffer(file);\n",
              "    });\n",
              "    // Wait for the data to be ready.\n",
              "    let fileData = yield {\n",
              "      promise: fileDataPromise,\n",
              "      response: {\n",
              "        action: 'continue',\n",
              "      }\n",
              "    };\n",
              "\n",
              "    // Use a chunked sending to avoid message size limits. See b/62115660.\n",
              "    let position = 0;\n",
              "    do {\n",
              "      const length = Math.min(fileData.byteLength - position, MAX_PAYLOAD_SIZE);\n",
              "      const chunk = new Uint8Array(fileData, position, length);\n",
              "      position += length;\n",
              "\n",
              "      const base64 = btoa(String.fromCharCode.apply(null, chunk));\n",
              "      yield {\n",
              "        response: {\n",
              "          action: 'append',\n",
              "          file: file.name,\n",
              "          data: base64,\n",
              "        },\n",
              "      };\n",
              "\n",
              "      let percentDone = fileData.byteLength === 0 ?\n",
              "          100 :\n",
              "          Math.round((position / fileData.byteLength) * 100);\n",
              "      percent.textContent = `${percentDone}% done`;\n",
              "\n",
              "    } while (position < fileData.byteLength);\n",
              "  }\n",
              "\n",
              "  // All done.\n",
              "  yield {\n",
              "    response: {\n",
              "      action: 'complete',\n",
              "    }\n",
              "  };\n",
              "}\n",
              "\n",
              "scope.google = scope.google || {};\n",
              "scope.google.colab = scope.google.colab || {};\n",
              "scope.google.colab._files = {\n",
              "  _uploadFiles,\n",
              "  _uploadFilesContinue,\n",
              "};\n",
              "})(self);\n",
              "</script> "
            ]
          },
          "metadata": {}
        },
        {
          "output_type": "stream",
          "name": "stdout",
          "text": [
            "Saving kaggle.json to kaggle (3).json\n",
            "mkdir: cannot create directory ‘/root/.kaggle’: File exists\n",
            "digit-recognizer.zip: Skipping, found more recently modified local copy (use --force to force download)\n"
          ]
        }
      ]
    },
    {
      "cell_type": "code",
      "source": [
        "!unzip /content/digit-recognizer.zip"
      ],
      "metadata": {
        "colab": {
          "base_uri": "https://localhost:8080/"
        },
        "id": "FKovwlV0Nq12",
        "outputId": "e78b8341-3da2-4455-ed56-d53f9fed950c"
      },
      "execution_count": 4,
      "outputs": [
        {
          "output_type": "stream",
          "name": "stdout",
          "text": [
            "Archive:  /content/digit-recognizer.zip\n",
            "replace sample_submission.csv? [y]es, [n]o, [A]ll, [N]one, [r]ename: y\n",
            "  inflating: sample_submission.csv   \n",
            "replace test.csv? [y]es, [n]o, [A]ll, [N]one, [r]ename: y\n",
            "  inflating: test.csv                \n",
            "replace train.csv? [y]es, [n]o, [A]ll, [N]one, [r]ename: y\n",
            "  inflating: train.csv               \n"
          ]
        }
      ]
    },
    {
      "cell_type": "code",
      "source": [
        "\n",
        "import pandas as pd\n",
        "df_train=pd.read_csv('train.csv')\n",
        "df_test=pd.read_csv('test.csv')"
      ],
      "metadata": {
        "id": "bP8O0unhhZab"
      },
      "execution_count": 5,
      "outputs": []
    },
    {
      "cell_type": "code",
      "source": [
        "import numpy as np\n",
        "\n",
        "y_label=df_train['label'].astype('float32')\n",
        "x_train=df_train.drop(['label'],axis=1).astype('int32')\n",
        "x_test=df_test.astype('float32')\n",
        "\n",
        "y_label.shape,x_train.shape,x_test.shape"
      ],
      "metadata": {
        "colab": {
          "base_uri": "https://localhost:8080/"
        },
        "id": "RAH8gwLilfC1",
        "outputId": "e9186235-d9fe-4a05-dfa1-9815a2490032"
      },
      "execution_count": 6,
      "outputs": [
        {
          "output_type": "execute_result",
          "data": {
            "text/plain": [
              "((42000,), (42000, 784), (28000, 784))"
            ]
          },
          "metadata": {},
          "execution_count": 6
        }
      ]
    },
    {
      "cell_type": "code",
      "source": [
        "x_train=x_train.values.reshape(-1,1,28,28)\n",
        "x_train=x_train/255.0\n",
        "x_test=x_test.values.reshape(-1,1,28,28)\n",
        "x_test=x_test/255.0\n",
        "x_train.shape,x_test.shape"
      ],
      "metadata": {
        "colab": {
          "base_uri": "https://localhost:8080/"
        },
        "id": "6L-x-mubOv0r",
        "outputId": "873907a8-d807-4475-aa24-5c717d8e401f"
      },
      "execution_count": 7,
      "outputs": [
        {
          "output_type": "execute_result",
          "data": {
            "text/plain": [
              "((42000, 1, 28, 28), (28000, 1, 28, 28))"
            ]
          },
          "metadata": {},
          "execution_count": 7
        }
      ]
    },
    {
      "cell_type": "code",
      "source": [
        "train_y = tf.keras.utils.to_categorical(y_label,10)\n",
        "train_y.shape"
      ],
      "metadata": {
        "colab": {
          "base_uri": "https://localhost:8080/"
        },
        "id": "2bS8yD8yRV70",
        "outputId": "9a507d9b-78a3-4189-b053-7403f4424cc1"
      },
      "execution_count": 8,
      "outputs": [
        {
          "output_type": "execute_result",
          "data": {
            "text/plain": [
              "(42000, 10)"
            ]
          },
          "metadata": {},
          "execution_count": 8
        }
      ]
    },
    {
      "cell_type": "code",
      "source": [
        "train_data=[]\n",
        "for i in range (0,42000):\n",
        "  train_data.append([x_train[i],train_y[i]])\n",
        "\n",
        "train_loader = DataLoader(train_data , batch_size = 50 , shuffle = False , num_workers = 2) \n",
        "\n"
      ],
      "metadata": {
        "id": "rndFVSWK92-v"
      },
      "execution_count": 9,
      "outputs": []
    },
    {
      "cell_type": "code",
      "source": [
        "\n",
        "from re import L\n",
        "class Network(nn.Module):\n",
        "  def __init__(self):\n",
        "    super().__init__()\n",
        "\n",
        "    \n",
        "    \n",
        "    self.model=nn.Sequential(\n",
        "        nn.Conv2d(1,32,(3,3)),\n",
        "        nn.ReLU(),\n",
        "        nn.Conv2d(32,32,(3,3)),\n",
        "        nn.ReLU(),\n",
        "        nn.MaxPool2d(2,2),\n",
        "        nn.Conv2d(32,64,(3,3),padding='same'),\n",
        "        nn.ReLU(),\n",
        "        nn.Conv2d(64,64,(3,3),padding='same'),\n",
        "        nn.ReLU(),\n",
        "        nn.MaxPool2d(2,2),\n",
        "        nn.Dropout(p=0.25),\n",
        "        nn.Flatten(),\n",
        "        nn.Linear(2304,256),\n",
        "        nn.Linear(256,256),\n",
        "        nn.Dropout(0.5),\n",
        "        nn.Linear(256,10),\n",
        "        \n",
        "        \n",
        "    )\n",
        "    # self.conv_1= nn.Conv2d(1,32,(3,3))\n",
        "    # self.relu_1= nn.ReLU()\n",
        "    # self.conv_2= nn.Conv2d(32,32,(3,3))\n",
        "    # self.relu_2= nn.ReLU()\n",
        "    # self.max_1=  nn.MaxPool2d(2,2)\n",
        "    # self.conv_3= nn.Conv2d(32,64,(3,3),padding='same')\n",
        "    # self.relu_3= nn.ReLU()\n",
        "    # self.conv_4= nn.Conv2d(64,64,(3,3),padding='same')\n",
        "    # self.relu_4= nn.ReLU()\n",
        "    # self.max_2=  nn.MaxPool2d(2,2)\n",
        "    # self.drop_1= nn.Dropout(p=0.25)\n",
        "    # self.fc_1=   nn.Linear(576,256)\n",
        "    # self.fc_2=   nn.Linear(256,256)\n",
        "    # self.drop_2= nn.Dropout(0.5)\n",
        "    # self.fc_3=   nn.Linear(256,10)\n",
        "\n",
        "    \n",
        "\n",
        "  \n",
        "\n",
        "  def forward(self , x):\n",
        "      \n",
        "      # x=self.conv_1(x)\n",
        "      # #print(type(x))\n",
        "      # x=self.relu_1(x)\n",
        "      # x=self.conv_2(x)\n",
        "      # x=self.relu_2(x)\n",
        "      # x=self.max_1(x)\n",
        "      # x=self.conv_3(x)\n",
        "      # x=self.relu_3(x)\n",
        "      # x=self.conv_4(x)\n",
        "      # x=self.relu_4(x)\n",
        "      # x=self.max_2(x)\n",
        "      # x=self.drop_1(x)\n",
        "      # x=torch.flatten(x)\n",
        "      # #print(type(x))\n",
        "      # size=x.size()\n",
        "      # prod=1\n",
        "      # for i in size:\n",
        "      #   prod=prod*i\n",
        "\n",
        "      # self.fc_1=nn.Linear(prod,256)\n",
        "      \n",
        "      # x=F.relu(self.fc_1(x))\n",
        "      # x=F.relu(self.fc_2(x))\n",
        "      # x=self.drop_2(x)\n",
        "      # x=self.fc_3(x)\n",
        "\n",
        "      # output=nn.Softmax(x,dim=1)\n",
        "\n",
        "      return self.model(x)\n",
        "    \n",
        "\n",
        "      #print(output_2)\n",
        "      # out_list = []\n",
        "      # for i in range(36):\n",
        "      #   self.brand = nn.Sequential(\n",
        "      #       nn.Dropout(p=0.2),\n",
        "      #       nn.Linear(512 , 36)\n",
        "      #   )\n",
        "      #   self.brand = self.brand.to(device)\n",
        "      #   output = self.brand(output_2)\n",
        "      #   out_list.append(output)\n",
        "\n",
        "      # a = torch.empty((x.shape[0],36,36))\n",
        "      # a = a.to(device)\n",
        "\n",
        "      # for j in range(x.shape[0]):\n",
        "      #   for i in range(36):\n",
        "      #     a[j][i] = out_list[i][j]\n",
        "\n",
        "      \n",
        "\n",
        "      return output"
      ],
      "metadata": {
        "id": "_1f0VFv5tQoF"
      },
      "execution_count": 10,
      "outputs": []
    },
    {
      "cell_type": "code",
      "source": [
        "class ImageClassifier(nn.Module):\n",
        "  def __init__(self):\n",
        "    super().__init__()\n",
        "    self.model=nn.Sequential(\n",
        "        nn.Conv2d(1,32,(3,3)),\n",
        "        nn.ReLU(),\n",
        "        nn.Conv2d(32,64,(3,3)),\n",
        "        nn.ReLU(),\n",
        "        nn.Conv2d(64,64,(3,3)),\n",
        "        nn.ReLU(),\n",
        "        nn.Flatten(),\n",
        "        nn.Linear(64*(28-6)*(28-6),10)\n",
        "\n",
        "    )\n",
        "  def forward(self,x):\n",
        "   return self.model(x)   "
      ],
      "metadata": {
        "id": "oJxSVoYGyvhM"
      },
      "execution_count": 32,
      "outputs": []
    },
    {
      "cell_type": "code",
      "source": [
        "model = Network().to(device) "
      ],
      "metadata": {
        "id": "sCDD7dm7LxzB"
      },
      "execution_count": 11,
      "outputs": []
    },
    {
      "cell_type": "code",
      "source": [
        "clf=ImageClassifier().to(device)"
      ],
      "metadata": {
        "id": "jVtFqJbZyurG"
      },
      "execution_count": 34,
      "outputs": []
    },
    {
      "cell_type": "code",
      "source": [
        "summary(clf , (1,28,28))"
      ],
      "metadata": {
        "colab": {
          "base_uri": "https://localhost:8080/"
        },
        "id": "63HK-w5OMbw3",
        "outputId": "98395684-71f1-45cb-c8db-0671d8951e94"
      },
      "execution_count": 35,
      "outputs": [
        {
          "output_type": "stream",
          "name": "stdout",
          "text": [
            "----------------------------------------------------------------\n",
            "        Layer (type)               Output Shape         Param #\n",
            "================================================================\n",
            "            Conv2d-1           [-1, 32, 26, 26]             320\n",
            "              ReLU-2           [-1, 32, 26, 26]               0\n",
            "            Conv2d-3           [-1, 64, 24, 24]          18,496\n",
            "              ReLU-4           [-1, 64, 24, 24]               0\n",
            "            Conv2d-5           [-1, 64, 22, 22]          36,928\n",
            "              ReLU-6           [-1, 64, 22, 22]               0\n",
            "           Flatten-7                [-1, 30976]               0\n",
            "            Linear-8                   [-1, 10]         309,770\n",
            "================================================================\n",
            "Total params: 365,514\n",
            "Trainable params: 365,514\n",
            "Non-trainable params: 0\n",
            "----------------------------------------------------------------\n",
            "Input size (MB): 0.00\n",
            "Forward/backward pass size (MB): 1.60\n",
            "Params size (MB): 1.39\n",
            "Estimated Total Size (MB): 3.00\n",
            "----------------------------------------------------------------\n"
          ]
        }
      ]
    },
    {
      "cell_type": "code",
      "source": [
        "summary(model,(1,28,28))"
      ],
      "metadata": {
        "colab": {
          "base_uri": "https://localhost:8080/"
        },
        "id": "rcdRqOV_gXly",
        "outputId": "54cffc34-3048-4f8b-baa7-2c29e819a1e8"
      },
      "execution_count": 12,
      "outputs": [
        {
          "output_type": "stream",
          "name": "stdout",
          "text": [
            "----------------------------------------------------------------\n",
            "        Layer (type)               Output Shape         Param #\n",
            "================================================================\n",
            "            Conv2d-1           [-1, 32, 26, 26]             320\n",
            "              ReLU-2           [-1, 32, 26, 26]               0\n",
            "            Conv2d-3           [-1, 32, 24, 24]           9,248\n",
            "              ReLU-4           [-1, 32, 24, 24]               0\n",
            "         MaxPool2d-5           [-1, 32, 12, 12]               0\n",
            "            Conv2d-6           [-1, 64, 12, 12]          18,496\n",
            "              ReLU-7           [-1, 64, 12, 12]               0\n",
            "            Conv2d-8           [-1, 64, 12, 12]          36,928\n",
            "              ReLU-9           [-1, 64, 12, 12]               0\n",
            "        MaxPool2d-10             [-1, 64, 6, 6]               0\n",
            "          Dropout-11             [-1, 64, 6, 6]               0\n",
            "          Flatten-12                 [-1, 2304]               0\n",
            "           Linear-13                  [-1, 256]         590,080\n",
            "           Linear-14                  [-1, 256]          65,792\n",
            "          Dropout-15                  [-1, 256]               0\n",
            "           Linear-16                   [-1, 10]           2,570\n",
            "================================================================\n",
            "Total params: 723,434\n",
            "Trainable params: 723,434\n",
            "Non-trainable params: 0\n",
            "----------------------------------------------------------------\n",
            "Input size (MB): 0.00\n",
            "Forward/backward pass size (MB): 0.99\n",
            "Params size (MB): 2.76\n",
            "Estimated Total Size (MB): 3.75\n",
            "----------------------------------------------------------------\n"
          ]
        }
      ]
    },
    {
      "cell_type": "code",
      "source": [
        " # PARAMETERS FOR TRAINING \n",
        "\n",
        "epochs = 6 \n",
        "learning_rate = 0.001\n",
        "\n",
        "optimizer = optim.Adam(model.parameters() , lr = learning_rate)\n",
        "#mse_loss = nn.MSELoss() \n",
        "\n",
        "#cse_loss = nn.BinaryCrossEntropyLoss() \n",
        "\n",
        "cse_loss = nn.CrossEntropyLoss() "
      ],
      "metadata": {
        "id": "XLA4gt2YOAry"
      },
      "execution_count": 13,
      "outputs": []
    },
    {
      "cell_type": "code",
      "source": [
        "for epoch in range(10) :\n",
        "  for k,data in enumerate(train_loader):\n",
        "          #l = []\n",
        "          input,y_label=data\n",
        "          \n",
        "          input,y_label=input.to(device),y_label.to(device)\n",
        "          \n",
        "          input =input.type(torch.float)\n",
        "\n",
        "          \n",
        "          \n",
        "          \n",
        "\n",
        "          y_label=y_label.type(torch.float)\n",
        "\n",
        "          \n",
        "          #for i in range(36):\n",
        "            #l.append(images[: , i])\n",
        "          #cse_loss = nn.CrossEntropyLoss() \n",
        "          \n",
        "          outputs = model(input)\n",
        "\n",
        "          #print(outputs)\n",
        "          \n",
        "\n",
        "          #loss = criterion(cse_loss , outputs , y_labels) \n",
        "          loss = (cse_loss(outputs , y_label))\n",
        "          \n",
        "          optimizer.zero_grad() \n",
        "\n",
        "\n",
        "          loss.backward() \n",
        "\n",
        "          optimizer.step() \n",
        "  print(f\"Epoch {epoch} loss is {loss.item()}\")"
      ],
      "metadata": {
        "colab": {
          "base_uri": "https://localhost:8080/"
        },
        "id": "_SQMsu9EOS9Q",
        "outputId": "1146dbea-1247-4400-b30c-2e0ac9203716"
      },
      "execution_count": 14,
      "outputs": [
        {
          "output_type": "stream",
          "name": "stdout",
          "text": [
            "Epoch 0 loss is 0.012951241806149483\n",
            "Epoch 1 loss is 0.0010137750068679452\n",
            "Epoch 2 loss is 0.0057481396943330765\n",
            "Epoch 3 loss is 0.0018866520840674639\n",
            "Epoch 4 loss is 0.003061960218474269\n",
            "Epoch 5 loss is 0.0004762164026033133\n",
            "Epoch 6 loss is 0.00010242738790111616\n",
            "Epoch 7 loss is 0.0001757894060574472\n",
            "Epoch 8 loss is 7.364151679212227e-05\n",
            "Epoch 9 loss is 0.00018964936316478997\n"
          ]
        }
      ]
    },
    {
      "cell_type": "code",
      "source": [
        "x_test=torch.from_numpy(x_test)\n",
        "x_test=x_test.to(device)\n",
        "y_pred=model.forward(x_test)"
      ],
      "metadata": {
        "id": "mW7coBlgRpBV"
      },
      "execution_count": 15,
      "outputs": []
    },
    {
      "cell_type": "code",
      "source": [
        "y_pred.shape"
      ],
      "metadata": {
        "colab": {
          "base_uri": "https://localhost:8080/"
        },
        "id": "H1bHS1akfjKC",
        "outputId": "fcb5f68a-bb27-4fe9-87b0-7262766b5a73"
      },
      "execution_count": 16,
      "outputs": [
        {
          "output_type": "execute_result",
          "data": {
            "text/plain": [
              "torch.Size([28000, 10])"
            ]
          },
          "metadata": {},
          "execution_count": 16
        }
      ]
    },
    {
      "cell_type": "code",
      "source": [
        "y_pred[5]"
      ],
      "metadata": {
        "colab": {
          "base_uri": "https://localhost:8080/"
        },
        "id": "M4BXWpx7mS4O",
        "outputId": "fa49e805-64eb-4f87-92ab-9fab966223ae"
      },
      "execution_count": 17,
      "outputs": [
        {
          "output_type": "execute_result",
          "data": {
            "text/plain": [
              "tensor([ -7.8681,   2.5736,  -3.7489,   2.3830,   1.6229,   1.3923, -17.0536,\n",
              "         19.0607,  -9.5066,   8.3364], device='cuda:0',\n",
              "       grad_fn=<SelectBackward0>)"
            ]
          },
          "metadata": {},
          "execution_count": 17
        }
      ]
    },
    {
      "cell_type": "code",
      "source": [
        "final_pred=[]\n",
        "for i in range(0,28000):\n",
        "  max_index=y_pred[i].argmax()\n",
        "  final_pred.append(int(max_index))"
      ],
      "metadata": {
        "id": "YXovyTFxf3Vx"
      },
      "execution_count": 18,
      "outputs": []
    },
    {
      "cell_type": "code",
      "source": [
        "import csv \n",
        "fields=['ImageId','Label']\n",
        "file_name ='Digit_recognizer_4.csv'\n",
        "with open(file_name,'w',newline='') as csvfile:\n",
        "    csvwriter=csv.writer(csvfile)\n",
        "    csvwriter.writerow(fields)\n",
        "   \n",
        "    for i in range (1,28001):\n",
        "        csvwriter.writerow([i,final_pred[i-1]])\n",
        "\n"
      ],
      "metadata": {
        "id": "MHoRt5Hqf7Hr"
      },
      "execution_count": 19,
      "outputs": []
    },
    {
      "cell_type": "code",
      "source": [],
      "metadata": {
        "id": "eOtXoJSwJ_Ah"
      },
      "execution_count": null,
      "outputs": []
    }
  ]
}

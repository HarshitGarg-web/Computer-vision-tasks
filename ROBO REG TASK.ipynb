{
 "cells": [
  {
   "cell_type": "code",
   "execution_count": 1,
   "id": "24cb3c3b",
   "metadata": {},
   "outputs": [],
   "source": [
    "import numpy as np\n",
    "import matplotlib\n",
    "import matplotlib.pyplot as plt\n",
    "import argparse\n",
    "import cv2\n",
    "import imutils\n",
    "import time\n",
    "import pandas as pd\n",
    "import os "
   ]
  },
  {
   "cell_type": "code",
   "execution_count": 2,
   "id": "c74b96bd",
   "metadata": {},
   "outputs": [],
   "source": [
    "import tensorflow as tf\n",
    "from tensorflow.keras.models import Sequential\n",
    "from tensorflow.keras.layers import Dense,Flatten,MaxPooling2D,Activation,Conv2D"
   ]
  },
  {
   "cell_type": "code",
   "execution_count": 12,
   "id": "e58cbf52",
   "metadata": {},
   "outputs": [
    {
     "name": "stdout",
     "output_type": "stream",
     "text": [
      "(823, 12)\n"
     ]
    }
   ],
   "source": [
    "data=r'C:\\Users\\harsh\\Downloads\\content\\Hollywood2_final\\labels\\train'\n",
    "list=[]\n",
    "CATEGORIES=os.listdir(data)\n",
    "for category in CATEGORIES:\n",
    "    listi=[]\n",
    "    path=os.path.join(data,category)\n",
    "    df=pd.read_csv(path)\n",
    "    arr=df.values\n",
    "    for i in arr:\n",
    "        for j in i:\n",
    "            if j[len(j)-2]=='-':\n",
    "                listi.append(-1)\n",
    "            else:\n",
    "                listi.append(1)\n",
    "    list.append(listi)\n",
    "\n",
    "list_new=[]\n",
    "for i in range (0,823):\n",
    "    list_temp=[]\n",
    "    for j in list:\n",
    "        list_temp.append(j[i])\n",
    "    list_new.append(list_temp)\n",
    "    \n",
    "Y=[]\n",
    "for i in list_new:\n",
    "    listi=[]\n",
    "    for j in i:\n",
    "        if j==-1:\n",
    "            listi.append(0)\n",
    "        else:\n",
    "            listi.append(1)\n",
    "    Y.append(listi) \n",
    "\n",
    "Y=np.array(Y)\n",
    "\n",
    "print(Y.shape)\n",
    "\n",
    "\n",
    "    \n",
    "    "
   ]
  },
  {
   "cell_type": "code",
   "execution_count": 13,
   "id": "e3fe7f9e",
   "metadata": {},
   "outputs": [],
   "source": [
    "data_vid=r'C:\\Users\\harsh\\Downloads\\content\\Hollywood2_final\\videos\\train'\n",
    "os.listdir(data_vid)\n",
    "training_data=[]\n",
    "img_size=50\n",
    "for vid in os.listdir(data_vid):\n",
    "    vid_temp=os.path.join(data_vid,vid)\n",
    "    cap = cv2.VideoCapture(vid_temp)\n",
    "    \n",
    "    frames = cap.get(cv2.CAP_PROP_FRAME_COUNT)\n",
    "    fps = cap.get(cv2.CAP_PROP_FPS)\n",
    "    seconds = round(frames / fps)\n",
    "    \n",
    "    cap.set(cv2.CAP_PROP_POS_MSEC,int(seconds/2)*100)\n",
    "    while (cap.isOpened()):\n",
    "        ret,frame=cap.read()\n",
    "        image=frame\n",
    "        img_new=cv2.resize(image,(img_size,img_size))\n",
    "        image_final = cv2.cvtColor(img_new, cv2.COLOR_BGR2GRAY)\n",
    "        training_data.append(image_final)\n",
    "        break\n",
    "\n",
    "training_data=np.array(training_data).reshape(-1,img_size,img_size,1) \n"
   ]
  },
  {
   "cell_type": "code",
   "execution_count": 14,
   "id": "de9c3b98",
   "metadata": {},
   "outputs": [
    {
     "data": {
      "text/plain": [
       "(823, 50, 50, 1)"
      ]
     },
     "execution_count": 14,
     "metadata": {},
     "output_type": "execute_result"
    }
   ],
   "source": [
    "training_data.shape"
   ]
  },
  {
   "cell_type": "code",
   "execution_count": null,
   "id": "38964f7e",
   "metadata": {},
   "outputs": [
    {
     "name": "stdout",
     "output_type": "stream",
     "text": [
      "Epoch 1/12\n",
      "26/26 [==============================] - 3s 68ms/step - loss: 2.0157 - accuracy: 0.1191\n",
      "Epoch 2/12\n",
      "26/26 [==============================] - 1s 51ms/step - loss: 0.3394 - accuracy: 0.1713\n",
      "Epoch 3/12\n",
      "26/26 [==============================] - 1s 56ms/step - loss: 0.2776 - accuracy: 0.3329\n",
      "Epoch 4/12\n",
      "14/26 [===============>..............] - ETA: 0s - loss: 0.2296 - accuracy: 0.4665"
     ]
    }
   ],
   "source": [
    "model=Sequential()\n",
    "\n",
    "\n",
    "model.add(    Conv2D(64,  (3,3)  ,input_shape=training_data.shape[1:])     )\n",
    "model.add(Activation('relu'))\n",
    "model.add(MaxPooling2D(pool_size=(2,2)))\n",
    "\n",
    "\n",
    "model.add(    Conv2D(64,  (3,3)  )     )\n",
    "model.add(Activation('relu'))\n",
    "model.add(MaxPooling2D(pool_size=(2,2)))\n",
    "\n",
    "model.add(Flatten())\n",
    "model.add(Dense(64))\n",
    "\n",
    "model.add(Dense(12))\n",
    "model.add(Activation('sigmoid'))\n",
    "\n",
    "model.compile(loss='binary_crossentropy',optimizer='adam',metrics=['accuracy'])\n",
    "\n",
    "model.fit(training_data,Y,batch_size=32,epochs=12)"
   ]
  },
  {
   "cell_type": "code",
   "execution_count": null,
   "id": "ee80250f",
   "metadata": {},
   "outputs": [],
   "source": [
    "data_vid=r'C:\\Users\\harsh\\Downloads\\content\\Hollywood2_final\\videos\\test'\n",
    "os.listdir(data_vid)\n",
    "testing_data=[]\n",
    "img_size=50\n",
    "for vid in os.listdir(data_vid):\n",
    "    vid_temp=os.path.join(data_vid,vid)\n",
    "    cap = cv2.VideoCapture(vid_temp)\n",
    "    \n",
    "    frames = cap.get(cv2.CAP_PROP_FRAME_COUNT)\n",
    "    fps = cap.get(cv2.CAP_PROP_FPS)\n",
    "    seconds = round(frames / fps)\n",
    "    \n",
    "    cap.set(cv2.CAP_PROP_POS_MSEC,int(seconds/2)*100)\n",
    "    while (cap.isOpened()):\n",
    "        ret,frame=cap.read()\n",
    "        image=frame\n",
    "        img_new=cv2.resize(image,(img_size,img_size))\n",
    "        image_final = cv2.cvtColor(img_new, cv2.COLOR_BGR2GRAY)\n",
    "        testing_data.append(image_final)\n",
    "        break\n",
    "\n",
    "testing_data=np.array(testing_data).reshape(-1,img_size,img_size,1) "
   ]
  },
  {
   "cell_type": "code",
   "execution_count": null,
   "id": "9a259b63",
   "metadata": {},
   "outputs": [],
   "source": [
    "data=r'C:\\Users\\harsh\\Downloads\\content\\Hollywood2_final\\labels\\test'\n",
    "list=[]\n",
    "CATEGORIES=os.listdir(data)\n",
    "\n",
    "for category in CATEGORIES:\n",
    "    listi=[]\n",
    "    path=os.path.join(data,category)\n",
    "    df=pd.read_csv(path)\n",
    "    arr=df.values\n",
    "    for i in arr:\n",
    "        for j in i:\n",
    "            if j[len(j)-2]=='-':\n",
    "                listi.append(-1)\n",
    "            else:\n",
    "                listi.append(1)\n",
    "    list.append(listi)\n",
    "   \n",
    "\n",
    "list_new=[]\n",
    "for i in range (0,884):\n",
    "    list_temp=[]\n",
    "    for j in list:\n",
    "        list_temp.append(j[i])\n",
    "    list_new.append(list_temp)\n",
    "   \n",
    "    \n",
    "Y_test=[]\n",
    "for i in list_new:\n",
    "    listi=[]\n",
    "    for j in i:\n",
    "        if j==-1:\n",
    "            listi.append(0)\n",
    "        else:\n",
    "            listi.append(1)\n",
    "    Y_test.append(listi) \n",
    "\n",
    "Y_test=np.array(Y_test)  "
   ]
  },
  {
   "cell_type": "code",
   "execution_count": null,
   "id": "139148ab",
   "metadata": {},
   "outputs": [],
   "source": [
    "predictions=model.predict(testing_data)"
   ]
  },
  {
   "cell_type": "code",
   "execution_count": null,
   "id": "ae68a733",
   "metadata": {},
   "outputs": [],
   "source": [
    "pred_test=[]\n",
    "for i in predictions:\n",
    "    listi=[]\n",
    "    for j in i:\n",
    "        if j<0.5:\n",
    "            listi.append(0)\n",
    "        else:\n",
    "            listi.append(1)\n",
    "    pred_test.append(listi)\n",
    "pred_test=np.array(pred_test)    "
   ]
  },
  {
   "cell_type": "code",
   "execution_count": null,
   "id": "5d0e73c8",
   "metadata": {},
   "outputs": [],
   "source": [
    "count =0\n",
    "for i in  range (0,884):\n",
    "    add=1\n",
    "    for j in pred_test[i]==Y_test[i]:\n",
    "        if j==False:\n",
    "            add=0\n",
    "            break\n",
    "    count=count+add\n",
    "print(count/884)    "
   ]
  },
  {
   "cell_type": "code",
   "execution_count": null,
   "id": "9c8ce4a3",
   "metadata": {},
   "outputs": [],
   "source": []
  }
 ],
 "metadata": {
  "kernelspec": {
   "display_name": "Python 3 (ipykernel)",
   "language": "python",
   "name": "python3"
  },
  "language_info": {
   "codemirror_mode": {
    "name": "ipython",
    "version": 3
   },
   "file_extension": ".py",
   "mimetype": "text/x-python",
   "name": "python",
   "nbconvert_exporter": "python",
   "pygments_lexer": "ipython3",
   "version": "3.9.13"
  }
 },
 "nbformat": 4,
 "nbformat_minor": 5
}
